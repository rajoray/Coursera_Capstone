{
 "cells": [
  {
   "cell_type": "markdown",
   "metadata": {},
   "source": [
    "###### Capstone Project Assignment - Week5"
   ]
  },
  {
   "cell_type": "markdown",
   "metadata": {},
   "source": [
    "## To explore the neighborhood of City Bangalore for opening up a New Dental Care"
   ]
  },
  {
   "cell_type": "markdown",
   "metadata": {},
   "source": [
    "## 1.0 Introduction"
   ]
  },
  {
   "cell_type": "markdown",
   "metadata": {},
   "source": [
    "##### This section provides information about context of this project. This also states about business problem and target audience."
   ]
  },
  {
   "cell_type": "markdown",
   "metadata": {},
   "source": [
    "### Background"
   ]
  },
  {
   "cell_type": "markdown",
   "metadata": {},
   "source": [
    "##### Bangalore is rightly called as Silicon Valley of India and also the IT Capital of India. With the growth of IT related business, Bangalore is growing rapidly with a variety of other businesses and services like Hotel, Health, Education, Eateries, Entertainments, Travel and many more. Opening up any new health center, restaurant or any other businesses/services needs an understanding of city's geography, neighborhood and diversities. With the rapid growth in population, one of the major services that has taken a top priority in Bangalore is health. There has been significant increase in number of health care units in recent years, and with modern health technologies, easier medical insurance and various government policies, Bangalore has become a true hub for health care services.\n",
    "\n",
    "\n",
    " "
   ]
  },
  {
   "cell_type": "markdown",
   "metadata": {},
   "source": [
    "### Business Problem"
   ]
  },
  {
   "cell_type": "markdown",
   "metadata": {},
   "source": [
    "##### The business problem that we are looking into is related to opening up a new dental care unit in Bangalore. The study must include the kind of health centers, special cares are already available in and around Bangalore and how these are distributed among the city. If a new specialty health care center (i.e. for dental care) is required to be setup, which area of Bangalore would be preferred.\n"
   ]
  },
  {
   "cell_type": "markdown",
   "metadata": {},
   "source": [
    "### Target Audience"
   ]
  },
  {
   "cell_type": "markdown",
   "metadata": {},
   "source": [
    "##### This project would be useful for someone who would be interested in looking for opening up a new dental care unit in Bangalore. Government health department, private health service group and even an individual dentist would be beneficiary of this study.  This project will provide analytical guideline about the preferred zones for opening up a dental care unit in Bangalore."
   ]
  },
  {
   "cell_type": "markdown",
   "metadata": {},
   "source": [
    "## 2.0 Data Requirement"
   ]
  },
  {
   "cell_type": "markdown",
   "metadata": {},
   "source": [
    "##### This section describes Data that will be used to solve the problem and the source of the data"
   ]
  },
  {
   "cell_type": "markdown",
   "metadata": {},
   "source": [
    "### Data Attributes"
   ]
  },
  {
   "cell_type": "markdown",
   "metadata": {},
   "source": [
    "##### The Data Requirement for analyzing this business problem is to obtain data having Bangalore area, location, pin-code, and also latitude and longitude. This information is needed for Bangalore urban areas. Based on these data, FourSquare API will be used to get the venue details having medical centers in Bangalore within a radius of 3000 meters. "
   ]
  },
  {
   "cell_type": "markdown",
   "metadata": {},
   "source": [
    "### Data Sources\n",
    "\n",
    "##### Data could be downloaded from Indian Government website (https://data.gov.in/catalog/locality-based-pincode). This has quite good quality data for Bangalore urban areas (which is where this study needs to be conducted)\n",
    "##### Based on these data, FourSquare APIs would be used to obtain location and types of various the medical care units "
   ]
  },
  {
   "cell_type": "markdown",
   "metadata": {},
   "source": [
    "### Obtaining Datasets"
   ]
  },
  {
   "cell_type": "markdown",
   "metadata": {},
   "source": [
    "##### Data found at https://data.gov.in/catalog/locality-based-pincode could be accessed by registering to the site. Once registered, API key could be generated and then using the key, the data could be downloaded in CSV format by accessing this URL: \"https://api.data.gov.in/resource/04cbe4b1-2f2b-4c39-a1d5-1c2e28bc0e32?api-key=<key>&format=csv&offset=0&limit=1000000\""
   ]
  },
  {
   "cell_type": "markdown",
   "metadata": {},
   "source": [
    "## 3.0 Data Processing"
   ]
  },
  {
   "cell_type": "markdown",
   "metadata": {},
   "source": [
    "##### Using Foursquare APIs we would fetch 'Medical Center'  ( CategoryID = 4bf58dd8d48988d104941735) around the postal code areas of Bangalore. \n",
    "##### We would be looking at the various kind of medical centers distributed in various postal zones of Bangalore with a radius of 3000 meters.\n"
   ]
  },
  {
   "cell_type": "markdown",
   "metadata": {},
   "source": [
    "## 4.0 Methodology"
   ]
  },
  {
   "cell_type": "markdown",
   "metadata": {},
   "source": [
    "#### a. Data obtained from https://data.gov.in/catalog/locality-based-pincode  has area information for all cities in India. Firstly we need to filter out the data for Bangalore. The resultant data should be cleaned based on the availability of latitude and longitude\n",
    "#### b. We need to invoke FourSquare API to obtain the venue details for Medical centers available in Bangalore urban areas ( with a radius of 3000 meters)\n",
    "#### c. We will wrangle data, sort it based on 1st common venue, 2nd common venue and so on\n",
    "#### d. We will model these venue details of medical centers using K-Mean Clustering methodology. We will try with 2,3,4,5 clusters. We will analyze  each of these clusters  and try to conclude what would be the preferred zone to open up a new dental care."
   ]
  },
  {
   "cell_type": "markdown",
   "metadata": {},
   "source": [
    "##### First Let us get the data"
   ]
  },
  {
   "cell_type": "code",
   "execution_count": 1,
   "metadata": {},
   "outputs": [
    {
     "data": {
      "text/html": [
       "<div>\n",
       "<style scoped>\n",
       "    .dataframe tbody tr th:only-of-type {\n",
       "        vertical-align: middle;\n",
       "    }\n",
       "\n",
       "    .dataframe tbody tr th {\n",
       "        vertical-align: top;\n",
       "    }\n",
       "\n",
       "    .dataframe thead th {\n",
       "        text-align: right;\n",
       "    }\n",
       "</style>\n",
       "<table border=\"1\" class=\"dataframe\">\n",
       "  <thead>\n",
       "    <tr style=\"text-align: right;\">\n",
       "      <th></th>\n",
       "      <th>Unnamed: 0</th>\n",
       "      <th>officename</th>\n",
       "      <th>pincode</th>\n",
       "      <th>officeType</th>\n",
       "      <th>Deliverystatus</th>\n",
       "      <th>divisionname</th>\n",
       "      <th>regionname</th>\n",
       "      <th>circlename</th>\n",
       "      <th>Taluk</th>\n",
       "      <th>Districtname</th>\n",
       "      <th>statename</th>\n",
       "      <th>Telephone</th>\n",
       "      <th>Related Suboffice</th>\n",
       "      <th>Related Headoffice</th>\n",
       "      <th>longitude</th>\n",
       "      <th>latitude</th>\n",
       "    </tr>\n",
       "  </thead>\n",
       "  <tbody>\n",
       "    <tr>\n",
       "      <th>0</th>\n",
       "      <td>0</td>\n",
       "      <td>Achalapur B.O</td>\n",
       "      <td>504273</td>\n",
       "      <td>B.O</td>\n",
       "      <td>Delivery</td>\n",
       "      <td>Adilabad</td>\n",
       "      <td>Hyderabad</td>\n",
       "      <td>Andhra Pradesh</td>\n",
       "      <td>Asifabad</td>\n",
       "      <td>Adilabad</td>\n",
       "      <td>TELANGANA</td>\n",
       "      <td>NaN</td>\n",
       "      <td>Rechini S.O</td>\n",
       "      <td>Mancherial H.O</td>\n",
       "      <td>NaN</td>\n",
       "      <td>NaN</td>\n",
       "    </tr>\n",
       "    <tr>\n",
       "      <th>1</th>\n",
       "      <td>1</td>\n",
       "      <td>Ada B.O</td>\n",
       "      <td>504293</td>\n",
       "      <td>B.O</td>\n",
       "      <td>Delivery</td>\n",
       "      <td>Adilabad</td>\n",
       "      <td>Hyderabad</td>\n",
       "      <td>Andhra Pradesh</td>\n",
       "      <td>Asifabad</td>\n",
       "      <td>Adilabad</td>\n",
       "      <td>TELANGANA</td>\n",
       "      <td>NaN</td>\n",
       "      <td>Asifabad S.O</td>\n",
       "      <td>Mancherial H.O</td>\n",
       "      <td>NaN</td>\n",
       "      <td>NaN</td>\n",
       "    </tr>\n",
       "    <tr>\n",
       "      <th>2</th>\n",
       "      <td>2</td>\n",
       "      <td>Adegaon B.O</td>\n",
       "      <td>504307</td>\n",
       "      <td>B.O</td>\n",
       "      <td>Delivery</td>\n",
       "      <td>Adilabad</td>\n",
       "      <td>Hyderabad</td>\n",
       "      <td>Andhra Pradesh</td>\n",
       "      <td>Boath</td>\n",
       "      <td>Adilabad</td>\n",
       "      <td>TELANGANA</td>\n",
       "      <td>NaN</td>\n",
       "      <td>Echoda S.O</td>\n",
       "      <td>Adilabad H.O</td>\n",
       "      <td>NaN</td>\n",
       "      <td>NaN</td>\n",
       "    </tr>\n",
       "    <tr>\n",
       "      <th>3</th>\n",
       "      <td>3</td>\n",
       "      <td>Adilabad Collectorate S.O</td>\n",
       "      <td>504001</td>\n",
       "      <td>S.O</td>\n",
       "      <td>Non-Delivery</td>\n",
       "      <td>Adilabad</td>\n",
       "      <td>Hyderabad</td>\n",
       "      <td>Andhra Pradesh</td>\n",
       "      <td>Adilabad</td>\n",
       "      <td>Adilabad</td>\n",
       "      <td>TELANGANA</td>\n",
       "      <td>08732-226703</td>\n",
       "      <td>NaN</td>\n",
       "      <td>Adilabad H.O</td>\n",
       "      <td>NaN</td>\n",
       "      <td>NaN</td>\n",
       "    </tr>\n",
       "    <tr>\n",
       "      <th>4</th>\n",
       "      <td>4</td>\n",
       "      <td>Adilabad H.O</td>\n",
       "      <td>504001</td>\n",
       "      <td>H.O</td>\n",
       "      <td>Delivery</td>\n",
       "      <td>Adilabad</td>\n",
       "      <td>Hyderabad</td>\n",
       "      <td>Andhra Pradesh</td>\n",
       "      <td>Adilabad</td>\n",
       "      <td>Adilabad</td>\n",
       "      <td>TELANGANA</td>\n",
       "      <td>08732-226738</td>\n",
       "      <td>NaN</td>\n",
       "      <td>NaN</td>\n",
       "      <td>NaN</td>\n",
       "      <td>NaN</td>\n",
       "    </tr>\n",
       "  </tbody>\n",
       "</table>\n",
       "</div>"
      ],
      "text/plain": [
       "   Unnamed: 0                 officename  pincode officeType Deliverystatus  \\\n",
       "0           0              Achalapur B.O   504273        B.O       Delivery   \n",
       "1           1                    Ada B.O   504293        B.O       Delivery   \n",
       "2           2                Adegaon B.O   504307        B.O       Delivery   \n",
       "3           3  Adilabad Collectorate S.O   504001        S.O   Non-Delivery   \n",
       "4           4               Adilabad H.O   504001        H.O       Delivery   \n",
       "\n",
       "  divisionname regionname      circlename     Taluk Districtname  statename  \\\n",
       "0     Adilabad  Hyderabad  Andhra Pradesh  Asifabad     Adilabad  TELANGANA   \n",
       "1     Adilabad  Hyderabad  Andhra Pradesh  Asifabad     Adilabad  TELANGANA   \n",
       "2     Adilabad  Hyderabad  Andhra Pradesh     Boath     Adilabad  TELANGANA   \n",
       "3     Adilabad  Hyderabad  Andhra Pradesh  Adilabad     Adilabad  TELANGANA   \n",
       "4     Adilabad  Hyderabad  Andhra Pradesh  Adilabad     Adilabad  TELANGANA   \n",
       "\n",
       "      Telephone Related Suboffice Related Headoffice  longitude  latitude  \n",
       "0           NaN       Rechini S.O     Mancherial H.O        NaN       NaN  \n",
       "1           NaN      Asifabad S.O     Mancherial H.O        NaN       NaN  \n",
       "2           NaN        Echoda S.O       Adilabad H.O        NaN       NaN  \n",
       "3  08732-226703               NaN       Adilabad H.O        NaN       NaN  \n",
       "4  08732-226738               NaN                NaN        NaN       NaN  "
      ]
     },
     "execution_count": 1,
     "metadata": {},
     "output_type": "execute_result"
    }
   ],
   "source": [
    "# the code will have the scripts on how did we get it from Indian Gov website\n",
    "import pandas as pd\n",
    "df = pd.read_csv(\"postal.csv\")\n",
    "df.head()"
   ]
  },
  {
   "cell_type": "markdown",
   "metadata": {},
   "source": [
    "##### Data obtained above has area, postal code , officeType, divisionname, circlename, districtname, latitude, longitude and few more information for all cities/locations in India. We filtered the data only for 'Bangalore' as 'DistrictName'. It was observed that all postal codes  in Bangalore do not have latitude and longitude information. Rows without any longitude or latitude have been dropped. Apart from postal codes, latitude and longitude, remaining attributes could be ignored.  Now, we get the venue details for category as 'Medical Care'(CategoryId=4bf58dd8d48988d104941735) using FourSquare API. After that we rearrange the data with most common venues based on the sorted postal codes within Bangalore\n"
   ]
  },
  {
   "cell_type": "code",
   "execution_count": 3,
   "metadata": {},
   "outputs": [
    {
     "data": {
      "text/html": [
       "<div>\n",
       "<style scoped>\n",
       "    .dataframe tbody tr th:only-of-type {\n",
       "        vertical-align: middle;\n",
       "    }\n",
       "\n",
       "    .dataframe tbody tr th {\n",
       "        vertical-align: top;\n",
       "    }\n",
       "\n",
       "    .dataframe thead th {\n",
       "        text-align: right;\n",
       "    }\n",
       "</style>\n",
       "<table border=\"1\" class=\"dataframe\">\n",
       "  <thead>\n",
       "    <tr style=\"text-align: right;\">\n",
       "      <th></th>\n",
       "      <th>Unnamed: 0</th>\n",
       "      <th>PostalCode</th>\n",
       "      <th>Latitude</th>\n",
       "      <th>Longitude</th>\n",
       "      <th>1st Most Common Venue</th>\n",
       "      <th>2nd Most Common Venue</th>\n",
       "      <th>3rd Most Common Venue</th>\n",
       "      <th>4th Most Common Venue</th>\n",
       "      <th>5th Most Common Venue</th>\n",
       "      <th>6th Most Common Venue</th>\n",
       "      <th>7th Most Common Venue</th>\n",
       "      <th>8th Most Common Venue</th>\n",
       "      <th>9th Most Common Venue</th>\n",
       "      <th>10th Most Common Venue</th>\n",
       "    </tr>\n",
       "  </thead>\n",
       "  <tbody>\n",
       "    <tr>\n",
       "      <th>0</th>\n",
       "      <td>0</td>\n",
       "      <td>Arabic College S.O</td>\n",
       "      <td>13.0291</td>\n",
       "      <td>77.6206</td>\n",
       "      <td>Hospital</td>\n",
       "      <td>Veterinarian</td>\n",
       "      <td>Medical Lab</td>\n",
       "      <td>Medical Center</td>\n",
       "      <td>Dentist's Office</td>\n",
       "      <td>Pharmacy</td>\n",
       "      <td>Office</td>\n",
       "      <td>Eye Doctor</td>\n",
       "      <td>Doctor's Office</td>\n",
       "      <td>Alternative Healer</td>\n",
       "    </tr>\n",
       "    <tr>\n",
       "      <th>1</th>\n",
       "      <td>1</td>\n",
       "      <td>Ashoknagar S.O (Bangalore)</td>\n",
       "      <td>12.9377</td>\n",
       "      <td>77.5645</td>\n",
       "      <td>Hospital</td>\n",
       "      <td>Medical Center</td>\n",
       "      <td>Veterinarian</td>\n",
       "      <td>Pharmacy</td>\n",
       "      <td>Office</td>\n",
       "      <td>Medical Lab</td>\n",
       "      <td>Eye Doctor</td>\n",
       "      <td>Doctor's Office</td>\n",
       "      <td>Dentist's Office</td>\n",
       "      <td>Alternative Healer</td>\n",
       "    </tr>\n",
       "    <tr>\n",
       "      <th>2</th>\n",
       "      <td>2</td>\n",
       "      <td>B Sk II Stage S.O</td>\n",
       "      <td>12.9265</td>\n",
       "      <td>77.5695</td>\n",
       "      <td>Hospital</td>\n",
       "      <td>Medical Center</td>\n",
       "      <td>Veterinarian</td>\n",
       "      <td>Pharmacy</td>\n",
       "      <td>Office</td>\n",
       "      <td>Medical Lab</td>\n",
       "      <td>Eye Doctor</td>\n",
       "      <td>Doctor's Office</td>\n",
       "      <td>Dentist's Office</td>\n",
       "      <td>Alternative Healer</td>\n",
       "    </tr>\n",
       "    <tr>\n",
       "      <th>3</th>\n",
       "      <td>3</td>\n",
       "      <td>Bangalore G.P.O.</td>\n",
       "      <td>12.9814</td>\n",
       "      <td>77.5955</td>\n",
       "      <td>Hospital</td>\n",
       "      <td>Medical Center</td>\n",
       "      <td>Doctor's Office</td>\n",
       "      <td>Medical Lab</td>\n",
       "      <td>Dentist's Office</td>\n",
       "      <td>Veterinarian</td>\n",
       "      <td>Pharmacy</td>\n",
       "      <td>Office</td>\n",
       "      <td>Eye Doctor</td>\n",
       "      <td>Alternative Healer</td>\n",
       "    </tr>\n",
       "    <tr>\n",
       "      <th>4</th>\n",
       "      <td>4</td>\n",
       "      <td>Bannerghatta Road S.O</td>\n",
       "      <td>12.8976</td>\n",
       "      <td>77.5997</td>\n",
       "      <td>Hospital</td>\n",
       "      <td>Medical Center</td>\n",
       "      <td>Veterinarian</td>\n",
       "      <td>Pharmacy</td>\n",
       "      <td>Office</td>\n",
       "      <td>Medical Lab</td>\n",
       "      <td>Eye Doctor</td>\n",
       "      <td>Doctor's Office</td>\n",
       "      <td>Dentist's Office</td>\n",
       "      <td>Alternative Healer</td>\n",
       "    </tr>\n",
       "  </tbody>\n",
       "</table>\n",
       "</div>"
      ],
      "text/plain": [
       "   Unnamed: 0                  PostalCode  Latitude  Longitude  \\\n",
       "0           0          Arabic College S.O   13.0291    77.6206   \n",
       "1           1  Ashoknagar S.O (Bangalore)   12.9377    77.5645   \n",
       "2           2           B Sk II Stage S.O   12.9265    77.5695   \n",
       "3           3            Bangalore G.P.O.   12.9814    77.5955   \n",
       "4           4       Bannerghatta Road S.O   12.8976    77.5997   \n",
       "\n",
       "  1st Most Common Venue 2nd Most Common Venue 3rd Most Common Venue  \\\n",
       "0              Hospital          Veterinarian           Medical Lab   \n",
       "1              Hospital        Medical Center          Veterinarian   \n",
       "2              Hospital        Medical Center          Veterinarian   \n",
       "3              Hospital        Medical Center       Doctor's Office   \n",
       "4              Hospital        Medical Center          Veterinarian   \n",
       "\n",
       "  4th Most Common Venue 5th Most Common Venue 6th Most Common Venue  \\\n",
       "0        Medical Center      Dentist's Office              Pharmacy   \n",
       "1              Pharmacy                Office           Medical Lab   \n",
       "2              Pharmacy                Office           Medical Lab   \n",
       "3           Medical Lab      Dentist's Office          Veterinarian   \n",
       "4              Pharmacy                Office           Medical Lab   \n",
       "\n",
       "  7th Most Common Venue 8th Most Common Venue 9th Most Common Venue  \\\n",
       "0                Office            Eye Doctor       Doctor's Office   \n",
       "1            Eye Doctor       Doctor's Office      Dentist's Office   \n",
       "2            Eye Doctor       Doctor's Office      Dentist's Office   \n",
       "3              Pharmacy                Office            Eye Doctor   \n",
       "4            Eye Doctor       Doctor's Office      Dentist's Office   \n",
       "\n",
       "  10th Most Common Venue  \n",
       "0     Alternative Healer  \n",
       "1     Alternative Healer  \n",
       "2     Alternative Healer  \n",
       "3     Alternative Healer  \n",
       "4     Alternative Healer  "
      ]
     },
     "execution_count": 3,
     "metadata": {},
     "output_type": "execute_result"
    }
   ],
   "source": [
    "# the actual code will have the scripts on how did we derive this CSV\n",
    "df = pd.read_csv(\"bangalore_medical_care.csv\")\n",
    "df.head()\n"
   ]
  },
  {
   "cell_type": "markdown",
   "metadata": {},
   "source": [
    "#####  Now we would group the data by the Venue Category (i.e. medical care) and use clustering on these data using KMeans. KMeans is very useful to form \"groups\" based on the unlabeled data that we have formed so far. We would create clusters of 2-5, and analyze the data to see the variety of medical care units clustered within Bangalore area. "
   ]
  },
  {
   "cell_type": "markdown",
   "metadata": {},
   "source": [
    "##### Below is Bangalore Map with postal codes. We will plot the clusters on this map in next step"
   ]
  },
  {
   "cell_type": "markdown",
   "metadata": {},
   "source": ["<img src=../../bangalore_postalcodes.JPG>"]
  },
  {
   "cell_type": "markdown",
   "metadata": {},
   "source": [
    "## 5.0 Results"
   ]
  },
  {
   "cell_type": "markdown",
   "metadata": {},
   "source": [
    "##### Now, lets look at the clusters that we have created"
   ]
  },
  {
   "cell_type": "markdown",
   "metadata": {},
   "source": [
    "#### Clusters of 2 - Groups are divided into outskirts of Bangalore and central core zones of Bangalore"
   ]
  },
  {
   "cell_type": "markdown",
   "metadata": {},
   "source": [
    "### <img src=bangalore_medcare_cluster2.JPG>"
   ]
  },
  {
   "cell_type": "markdown",
   "metadata": {},
   "source": [
    "#### Clusters of 3 - Here clusters are created for (a) outskirts (b) north-west and slightly southern zones and remaining for (c) central and east Bangalore"
   ]
  },
  {
   "cell_type": "markdown",
   "metadata": {},
   "source": [
    "### <img src=bangalore_medcare_cluster3.JPG>"
   ]
  },
  {
   "cell_type": "markdown",
   "metadata": {},
   "source": [
    "#### Clusters of 4 - Further to this, groups are formed again (a) outskirts (b) north-west and slightly southern part (c) central and (d) east side. Interestingly, this time there is a clear distinction between east and central part, which was not there when we observed this during cluster-3. Now, lets create one more clusters with 5 groups"
   ]
  },
  {
   "cell_type": "markdown",
   "metadata": {},
   "source": [
    "### <img src=bangalore_medcare_cluster4.JPG>"
   ]
  },
  {
   "cell_type": "markdown",
   "metadata": {},
   "source": [
    "#### Clusters of 5 - This has a quite outstanding distinction between different zones - (a) & (b) outskirts have two different segmentations , (c) north-east and most southern part, (d) east , and finally, (e) the central part. Certain medical care units are segmented in different parts of Bangalore. In our next sections, we will see the actual data in dataframe and try to understand this trend a bit more."
   ]
  },
  {
   "cell_type": "markdown",
   "metadata": {},
   "source": [
    "### <img src=bangalore_medcare_cluster5.JPG>"
   ]
  },
  {
   "cell_type": "markdown",
   "metadata": {},
   "source": [
    "## 6.0 Discussion"
   ]
  },
  {
   "cell_type": "markdown",
   "metadata": {},
   "source": [
    "##### Now, we will try to understand what have made these kind of clusters. Lets have look at the different types of medical care units found in each cluster along with their most commonly presence"
   ]
  },
  {
   "cell_type": "markdown",
   "metadata": {},
   "source": [
    "#### OutSkirts\n",
    "##### There are two distinct outskirts formed - lets look at the data for both \n",
    "\n",
    "#### OutSkirts 1 - It has got a good combination of General Hospital, Medical Centers, Veterinarian, and Dental Care"
   ]
  },
  {
   "cell_type": "markdown",
   "metadata": {},
   "source": [
    "### <img src=bangalore_medcare_cluster1_outskirts1.JPG>"
   ]
  },
  {
   "cell_type": "markdown",
   "metadata": {},
   "source": [
    "#### OutSkirts 2 - General Hospitals are predominantly present here. Next to that there are Medical centers, individual doctor's offices, veterinarian and even eye care unit. However, there is not many dental care unit available in this area"
   ]
  },
  {
   "cell_type": "markdown",
   "metadata": {},
   "source": [
    "### <img src=bangalore_medcare_cluster4_outskirts2.JPG>"
   ]
  },
  {
   "cell_type": "markdown",
   "metadata": {},
   "source": [
    "### Central  - Here again general hospitals are many. Presence of Medical centers is next to that. Veterinarian, Individual doctor's office are also seen. However, very few dental care units are found in this cluster as well."
   ]
  },
  {
   "cell_type": "markdown",
   "metadata": {},
   "source": [
    "<img src=Coursera_Capstone/bangalore_medcare_cluster0_central.JPG>"
   ]
  },
  {
   "cell_type": "markdown",
   "metadata": {},
   "source": [
    "### East - Apart from general hospitals and individual doctor's office, there is a very high number of dental care units available in this cluster"
   ]
  },
  {
   "cell_type": "markdown",
   "metadata": {},
   "source": [
    "<img src=bangalore_medcare_cluster3_east.JPG>"
   ]
  },
  {
   "cell_type": "markdown",
   "metadata": {},
   "source": [
    "### North-West & South - Dominated with general hospitals and medical care units. However, there is very less number of dental care units observed in this cluster as well."
   ]
  },
  {
   "cell_type": "markdown",
   "metadata": {},
   "source": [
    "<img src=bangalore_medcare_cluster2_north-west_south.JPG>"
   ]
  },
  {
   "cell_type": "markdown",
   "metadata": {},
   "source": [
    "#### So, it is observed that east and outskirts1 have a dense number of dental care units, and on the other hand, central, north-west, south and outskirts2 have very less or insignificant number of dental care units. So, opening up a new dental care unit would be suggested to central, north-west, south and outskirts2 areas in Bangalore."
   ]
  },
  {
   "cell_type": "markdown",
   "metadata": {},
   "source": [
    "## 7.0 Conclusion"
   ]
  },
  {
   "cell_type": "markdown",
   "metadata": {},
   "source": [
    "##### Though general hospitals have a predominance presence in all areas of Bangalore, however, dental care units seem to be only available in East and outskirts1 areas. Where there is a huge traffic related concerns to travel across the city, it is quite suggestive to have special dental care units in central, north-west, south and outskirts2 as well. While currently, it seems general hospitals are provisioning the dental care for people near to these areas, however, special dental care units could be beneficiary for the people local to these areas."
   ]
  },
  {
   "cell_type": "code",
   "execution_count": null,
   "metadata": {},
   "outputs": [],
   "source": []
  }
 ],
 "metadata": {
  "kernelspec": {
   "display_name": "Python 3",
   "language": "python",
   "name": "python3"
  },
  "language_info": {
   "codemirror_mode": {
    "name": "ipython",
    "version": 3
   },
   "file_extension": ".py",
   "mimetype": "text/x-python",
   "name": "python",
   "nbconvert_exporter": "python",
   "pygments_lexer": "ipython3",
   "version": "3.6.5"
  }
 },
 "nbformat": 4,
 "nbformat_minor": 2
}
